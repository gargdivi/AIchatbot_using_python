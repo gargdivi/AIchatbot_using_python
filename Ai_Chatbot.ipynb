{
 "cells": [
  {
   "cell_type": "code",
   "execution_count": 6,
   "metadata": {},
   "outputs": [],
   "source": [
    "# imorting the google gemini\n",
    "import google.generativeai as genai"
   ]
  },
  {
   "cell_type": "code",
   "execution_count": 7,
   "metadata": {},
   "outputs": [],
   "source": [
    "# this key you have to get from google Ai Studio \n",
    "API_KEY=\"AIzaSyBv\"\n",
    "genai.configure(api_key=API_KEY)"
   ]
  },
  {
   "cell_type": "code",
   "execution_count": 8,
   "metadata": {},
   "outputs": [
    {
     "name": "stdout",
     "output_type": "stream",
     "text": [
      "genai.GenerativeModel(\n",
      "    model_name='models/gemini-pro',\n",
      "    generation_config={},\n",
      "    safety_settings={},\n",
      "    tools=None,\n",
      "    system_instruction=None,\n",
      ")\n"
     ]
    }
   ],
   "source": [
    "model=genai.GenerativeModel('gemini-pro')\n",
    "print(model)"
   ]
  },
  {
   "cell_type": "code",
   "execution_count": 9,
   "metadata": {},
   "outputs": [
    {
     "name": "stdout",
     "output_type": "stream",
     "text": [
      "Gemini:  **India has a diverse climate, ranging from tropical to alpine, with variations in temperature, rainfall, and humidity. The country can be broadly divided into four major climatic zones:**\n",
      "\n",
      "**1. Tropical Wet Climate:**\n",
      "* Found in the coastal regions and northeastern India\n",
      "* Temperature: Average temperatures range from 25°C to 30°C year-round\n",
      "* Rainfall: Receives heavy rainfall during the monsoon season (June to September), with annual precipitation exceeding 2,000 mm (80 inches)\n",
      "\n",
      "**2. Tropical Dry Climate:**\n",
      "* Found in the central and western parts of India\n",
      "* Temperature: Hot and dry, with temperatures reaching up to 45°C in summer\n",
      "* Rainfall: Receives moderate to low rainfall during the monsoon season, with annual precipitation ranging from 500 to 1,000 mm (20 to 40 inches)\n",
      "\n",
      "**3. Subtropical Monsoon Climate:**\n",
      "* Found in northern India\n",
      "* Temperature: Moderately hot summers and cold winters, with temperatures dropping below freezing in January\n",
      "* Rainfall: Receives moderate rainfall during the monsoon season, with annual precipitation ranging from 1,000 to 1,500 mm (40 to 60 inches)\n",
      "\n",
      "**4. Alpine Climate:**\n",
      "* Found in the Himalayan region\n",
      "* Temperature: Cold and snowy, with temperatures dropping below -20°C in winter\n",
      "* Rainfall: Receives snowfall and moderate rainfall during the monsoon season\n",
      "\n",
      "**Seasonal Variations:**\n",
      "\n",
      "**Winter (January-February):**\n",
      "* Generally dry and cold, with temperatures ranging from 4°C to 25°C\n",
      "* Northern India experiences cold waves and frost\n",
      "* Southern India remains relatively warm\n",
      "\n",
      "**Summer (March-May):**\n",
      "* Hot and dry, with temperatures rising up to 45°C in some areas\n",
      "* Central and western India experience severe heatwaves\n",
      "\n",
      "**Monsoon (June-September):**\n",
      "* Heavy rainfall dominates due to the southwest monsoon winds\n",
      "* Coastal areas and eastern India receive maximum rainfall\n",
      "* Floods and landslides are common\n",
      "\n",
      "**Post-Monsoon (October-November):**\n",
      "* Retreat of monsoon, with decreasing rainfall\n",
      "* Relatively dry and pleasant weather in most parts of India\n",
      "\n",
      "**Regional Variations:**\n",
      "\n",
      "**North India:**\n",
      "* Cold winters and hot summers\n",
      "* Receives snowfall in the Himalayas\n",
      "* Receives moderate rainfall during the monsoon\n",
      "\n",
      "**South India:**\n",
      "* Warm and humid climate year-round\n",
      "* Receives heavy rainfall during the monsoon\n",
      "* Experiences occasional cyclones\n",
      "\n",
      "**East India:**\n",
      "* Hot and humid summers\n",
      "* Receives the most rainfall during the monsoon\n",
      "* Prone to flooding\n",
      "\n",
      "**West India:**\n",
      "* Dry and arid climate with hot summers\n",
      "* Receives moderate rainfall during the monsoon\n",
      "Gemini: Bye!\n"
     ]
    }
   ],
   "source": [
    "while True:\n",
    "    query=input(\"Gemini: what do you want know?\\nYour response: \")\n",
    "    if query==\"exit\":\n",
    "        print(\"Gemini: Bye!\")\n",
    "        break\n",
    "    res=model.generate_content(query)\n",
    "    print(\"Gemini: \",res.text)"
   ]
  }
 ],
 "metadata": {
  "kernelspec": {
   "display_name": "Python 3",
   "language": "python",
   "name": "python3"
  },
  "language_info": {
   "codemirror_mode": {
    "name": "ipython",
    "version": 3
   },
   "file_extension": ".py",
   "mimetype": "text/x-python",
   "name": "python",
   "nbconvert_exporter": "python",
   "pygments_lexer": "ipython3",
   "version": "3.10.7"
  }
 },
 "nbformat": 4,
 "nbformat_minor": 2
}
